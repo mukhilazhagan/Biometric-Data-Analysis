{
 "cells": [
  {
   "cell_type": "markdown",
   "metadata": {},
   "source": [
    ">Homework 2\n",
    "## Mukhil Azhagan Mallaiyan Sathiaseelan\n",
    "> EEE-6561 Fundamentals of Biometric Identification \n"
   ]
  },
  {
   "cell_type": "markdown",
   "metadata": {},
   "source": [
    "### Importing necessary libraries"
   ]
  },
  {
   "cell_type": "code",
   "execution_count": 1,
   "metadata": {
    "collapsed": true
   },
   "outputs": [],
   "source": [
    "import math\n",
    "import numpy as np\n",
    "import matplotlib.pyplot as plt\n",
    "%matplotlib inline"
   ]
  },
  {
   "cell_type": "markdown",
   "metadata": {},
   "source": [
    "### Load data"
   ]
  },
  {
   "cell_type": "code",
   "execution_count": 2,
   "metadata": {
    "collapsed": true
   },
   "outputs": [],
   "source": [
    "f=open('simMatrix1.txt','r')\n",
    "sim_Matrix1=np.loadtxt(f)\n",
    "f.close()\n",
    "f=open('simMatrix2.txt','r')\n",
    "sim_Matrix2=np.loadtxt(f)\n",
    "f.close()"
   ]
  },
  {
   "cell_type": "code",
   "execution_count": 3,
   "metadata": {},
   "outputs": [
    {
     "name": "stdout",
     "output_type": "stream",
     "text": [
      "shape of Similarity Matrix 1: (466, 466)\n",
      "shape of Similarity Matrix 2: (466, 466)\n"
     ]
    }
   ],
   "source": [
    "#Load Test Case\n",
    "#   test if file loaded in the requried format and size \n",
    "print(\"shape of Similarity Matrix 1: \"+ str(sim_Matrix1.shape))\n",
    "print(\"shape of Similarity Matrix 2: \"+ str(sim_Matrix2.shape))"
   ]
  },
  {
   "cell_type": "markdown",
   "metadata": {},
   "source": [
    "### Code for Computation"
   ]
  },
  {
   "cell_type": "code",
   "execution_count": 4,
   "metadata": {
    "collapsed": true
   },
   "outputs": [],
   "source": [
    "### For System 1 :\n",
    "\n",
    "#sys1_rows: [int]; Number of rows for system 1\n",
    "#sys1_cols: [int]; Number of columns for system 1\n",
    "sys1_rows=sim_Matrix1.shape[0]\n",
    "sys1_cols=sim_Matrix1.shape[1]\n",
    "\n",
    "#sys1_max_galleryIndex: [1D array/vector]; Has the index of maximum gallery scores for each probe for system 1\n",
    "#sys1_max_galleryValue: [1D array/vector]; Has the value of maximum gallery scores for each probe for system 1\n",
    "sys1_max_galleryIndex= np.zeros(sys1_rows)\n",
    "sys1_max_galleryValue= np.zeros(sys1_rows)\n",
    "#sys1_genuineScore: [1D array/vector]; Has the values of genuine scores from the matrix for system 1\n",
    "#sys1_imposterScore: [1D array/vector]; Has the values of imposter scores from the matrix for system 1\n",
    "sys1_genuineScore=np.zeros(sys1_rows)\n",
    "sys1_imposterScore=np.zeros(sys1_rows*sys1_rows-sys1_rows)\n",
    "\n",
    "# Counters and Index Trackers\n",
    "k=0\n",
    "m=0\n",
    "\n",
    "for i in range(sys1_rows):\n",
    "    sys1_max_galleryIndex[i]=np.argmax(sim_Matrix1[i,:])\n",
    "    sys1_max_galleryValue[i]=np.max(sim_Matrix1[i,:])\n",
    "\n",
    "for i in range(sys1_rows):\n",
    "    for j in range(sys1_cols):\n",
    "        if i==j:\n",
    "            sys1_genuineScore[k]=sim_Matrix1[i,j]\n",
    "            k=k+1\n",
    "        else:\n",
    "            sys1_imposterScore[m]=sim_Matrix1[i,j]\n",
    "            m=m+1\n",
    "\n",
    "#Distribution Parameters for System 1 \n",
    "mean_sys1_genuine=np.mean(sys1_genuineScore)\n",
    "sd_sys1_genuine=np.var(sys1_genuineScore)**0.5\n",
    "mean_sys1_imposter=np.mean(sys1_imposterScore)\n",
    "sd_sys1_imposter=np.var(sys1_imposterScore)**0.5 \n",
    "            \n",
    "dprime_sys1=(2**0.5)*abs(mean_sys1_genuine-mean_sys1_imposter)/(( np.var(sys1_genuineScore)+np.var(sys1_imposterScore))**0.5)\n",
    "    \n",
    "    \n",
    "### For System 2 :\n",
    "\n",
    "#sys2_rows: [int]; Number of rows in system 2\n",
    "#sys2_cols: [int]; Number of columns in system 2\n",
    "sys2_rows=sim_Matrix2.shape[0]\n",
    "sys2_cols=sim_Matrix2.shape[1]\n",
    "\n",
    "#sys2_max_galleryIndex: [1D array/vector]; Has the index of maximum gallery scores for each probe for system 2\n",
    "#sys2_max_galleryValue: [1D array/vector]; Has the value of maximum gallery scores for each probe for system 2\n",
    "sys2_max_galleryIndex= np.zeros(sys2_rows)\n",
    "sys2_max_galleryValue= np.zeros(sys2_rows)\n",
    "#sys2_genuineScore: [1D array/vector]; Has the values of genuine scores from the matrix for system 2\n",
    "#sys2_imposterScore: [1D array/vector]; Has the values of imposter scores from the matrix for system 2\n",
    "sys2_genuineScore=np.zeros(sys2_rows)\n",
    "sys2_imposterScore=np.zeros(sys2_rows*sys2_rows-sys2_rows)\n",
    "\n",
    "# Counters and Index Trackers\n",
    "k=0\n",
    "m=0\n",
    "\n",
    "for i in range(sys2_rows):\n",
    "    sys2_max_galleryIndex[i]=np.argmax(sim_Matrix2[i,:])\n",
    "    sys2_max_galleryValue[i]=np.max(sim_Matrix2[i,:])\n",
    "\n",
    "for i in range(sys2_rows):\n",
    "    for j in range(sys2_cols):\n",
    "        if i==j:\n",
    "            sys2_genuineScore[k]=sim_Matrix2[i,j]\n",
    "            k=k+1\n",
    "        else:\n",
    "            sys2_imposterScore[m]=sim_Matrix2[i,j]\n",
    "            m=m+1\n",
    "            \n",
    "#Distribution Parameters for System 2 \n",
    "mean_sys2_genuine=np.mean(sys2_genuineScore)\n",
    "sd_sys2_genuine=np.var(sys2_genuineScore)**0.5\n",
    "mean_sys2_imposter=np.mean(sys2_imposterScore)\n",
    "sd_sys2_imposter=np.var(sys2_imposterScore)**0.5 \n",
    "\n"
   ]
  },
  {
   "cell_type": "markdown",
   "metadata": {},
   "source": [
    "# Answers"
   ]
  },
  {
   "cell_type": "markdown",
   "metadata": {},
   "source": [
    "## Part 1"
   ]
  },
  {
   "cell_type": "markdown",
   "metadata": {},
   "source": [
    "a)"
   ]
  },
  {
   "cell_type": "code",
   "execution_count": 6,
   "metadata": {},
   "outputs": [
    {
     "data": {
      "text/plain": [
       "<matplotlib.legend.Legend at 0x108dce7f0>"
      ]
     },
     "execution_count": 6,
     "metadata": {},
     "output_type": "execute_result"
    },
    {
     "data": {
      "image/png": "[encoded data removed]",
      "text/plain": [
       "<matplotlib.figure.Figure at 0x108d89278>"
      ]
     },
     "metadata": {},
     "output_type": "display_data"
    }
   ],
   "source": [
    "## Histogram Plots / Distribution Plots\n",
    "\n",
    "\n",
    "### For System 1 :\n",
    "\n",
    "# Note , the distribution is not normalized to 1\n",
    "plt.hist(sys1_genuineScore,density=True,stacked=True,bins=round(sys1_rows/10),histtype='step',color='teal',label='Genuine Score')\n",
    "plt.hist(sys1_imposterScore,density=True,stacked=True,bins=round(sys1_rows/10),histtype='step',color='orange',label='Imposter Score')\n",
    "plt.title('Distribution for System 1')\n",
    "plt.xlabel('Match Score')\n",
    "plt.ylabel('Distribution')\n",
    "plt.legend()\n"
   ]
  },
  {
   "cell_type": "code",
   "execution_count": 7,
   "metadata": {},
   "outputs": [
    {
     "data": {
      "text/plain": [
       "<matplotlib.legend.Legend at 0x108adce48>"
      ]
     },
     "execution_count": 7,
     "metadata": {},
     "output_type": "execute_result"
    },
    {
     "data": {
      "image/png": "[encoded data removed]",
      "text/plain": [
       "<matplotlib.figure.Figure at 0x108d890f0>"
      ]
     },
     "metadata": {},
     "output_type": "display_data"
    }
   ],
   "source": [
    "\n",
    "### For System 2 :\n",
    "# Note , the distribution is not normalized to 1\n",
    "plt.hist(sys2_genuineScore,density=True,stacked=True,bins=round(sys2_rows/10),histtype='step',color='teal',label='Genuine Score')\n",
    "plt.hist(sys2_imposterScore,density=True,stacked=True,bins=round(sys2_rows/10),histtype='step',color='orange',label='Imposter Score')\n",
    "plt.title('Distribution for System 2')\n",
    "plt.xlabel('Match Score')\n",
    "plt.ylabel('Distribution')\n",
    "plt.legend()\n"
   ]
  },
  {
   "cell_type": "markdown",
   "metadata": {},
   "source": [
    "b)"
   ]
  },
  {
   "cell_type": "code",
   "execution_count": 10,
   "metadata": {},
   "outputs": [],
   "source": [
    "def calc_tpir(simMat,t):\n",
    "    '''\n",
    "    Function name : calc_tpir\n",
    "    Description : calculates the True Positive Identification Rate\n",
    "    \n",
    "    Input Arguments: 1) a Similarity matrix 'simMat'\n",
    "                     2) a rank value 't'\n",
    "    \n",
    "    Return value : a TPIR decimal value 'tpir'\n",
    "    '''\n",
    "    rows=simMat.shape[0]\n",
    "    cols=simMat.shape[1]\n",
    "    count=0\n",
    "    Match=False\n",
    "    maxIndex=np.zeros(rows)\n",
    "    \n",
    "    for i in range(rows):\n",
    "        \n",
    "        # Checking if the top scores from each column contains the genuine score\n",
    "        maxIndex[:]=np.argsort(simMat[i,:])[::-1]  # reverse indexing of the sorted array\n",
    "        for j in range(t):\n",
    "            if i in maxIndex[:t]:\n",
    "                count=count+1\n",
    "                break\n",
    "                #print('Match '+str(count)) # Debug Statement\n",
    "    \n",
    "    tpir=(count/rows)\n",
    "    fnir=1-tpir\n",
    "    return tpir\n",
    "\n",
    "\n",
    "# Array to collect the values of CMC to be plotted\n",
    "system1_CMC=np.zeros(sys1_rows)\n",
    "system2_CMC=np.zeros(sys2_rows)\n",
    "\n",
    "for i in range(sys1_rows):\n",
    "    system1_CMC[i]=calc_tpir(sim_Matrix1,i+1)\n",
    "    system2_CMC[i]=calc_tpir(sim_Matrix2,i+1)\n"
   ]
  },
  {
   "cell_type": "code",
   "execution_count": 272,
   "metadata": {},
   "outputs": [
    {
     "data": {
      "text/plain": [
       "Text(0.5,1,'CMC curve for System 1')"
      ]
     },
     "execution_count": 272,
     "metadata": {},
     "output_type": "execute_result"
    },
    {
     "data": {
      "image/png": "[encoded data removed]",
      "text/plain": [
       "<matplotlib.figure.Figure at 0x123fae630>"
      ]
     },
     "metadata": {},
     "output_type": "display_data"
    }
   ],
   "source": [
    "plt.plot(np.arange(rows),system1_CMC,color='yellow',label='System 1')\n",
    "plt.ylim(np.min(system1_CMC),1)\n",
    "plt.xlabel('Rank')\n",
    "plt.ylabel('Rank-t Identification Rate')\n",
    "plt.legend()\n",
    "plt.title('CMC curve for System 1')\n"
   ]
  },
  {
   "cell_type": "code",
   "execution_count": 273,
   "metadata": {},
   "outputs": [
    {
     "data": {
      "text/plain": [
       "Text(0.5,1,'CMC curve for System 2')"
      ]
     },
     "execution_count": 273,
     "metadata": {},
     "output_type": "execute_result"
    },
    {
     "data": {
      "image/png": "[encoded data removed]",
      "text/plain": [
       "<matplotlib.figure.Figure at 0x1246f9320>"
      ]
     },
     "metadata": {},
     "output_type": "display_data"
    }
   ],
   "source": [
    "plt.plot(np.arange(rows),system2_CMC,color='coral',label='System 2')\n",
    "plt.ylim(np.min(system2_CMC),1)\n",
    "plt.xlabel('Rank')\n",
    "plt.ylabel('Rank-t Identification Rate')\n",
    "plt.legend()\n",
    "plt.title('CMC curve for System 2')"
   ]
  },
  {
   "cell_type": "markdown",
   "metadata": {},
   "source": [
    "c)"
   ]
  },
  {
   "cell_type": "code",
   "execution_count": 250,
   "metadata": {},
   "outputs": [
    {
     "name": "stdout",
     "output_type": "stream",
     "text": [
      "dprime for System 1 : 3.51647054515\n",
      "dprime for System 2 : 1.71168132762\n"
     ]
    }
   ],
   "source": [
    "# Calculation using formula 1.10 from Textbook\n",
    "dprime_sys1=(2**0.5)*abs(mean_sys1_genuine-mean_sys1_imposter)/(( np.var(sys1_genuineScore)+np.var(sys1_imposterScore))**0.5)\n",
    "dprime_sys2=(2**0.5)*abs(mean_sys2_genuine-mean_sys2_imposter)/(( np.var(sys2_genuineScore)+np.var(sys2_imposterScore))**0.5)\n",
    "\n",
    "# Print Statement for display\n",
    "print('dprime for System 1 : '+str(dprime_sys1)+'\\ndprime for System 2 : ' +str(dprime_sys2) )"
   ]
  },
  {
   "cell_type": "markdown",
   "metadata": {},
   "source": [
    "d)"
   ]
  },
  {
   "cell_type": "code",
   "execution_count": 252,
   "metadata": {},
   "outputs": [
    {
     "name": "stdout",
     "output_type": "stream",
     "text": [
      "The lowest rank of System 1 when preformance is greater than 70% is : 1\n",
      "The lowest rank of System 2 when preformance is greater than 70% is : 39\n"
     ]
    }
   ],
   "source": [
    "for i in range(rows):\n",
    "    if system1_CMC[i]>.70:\n",
    "        sys1_qualifyingRank=i+1\n",
    "        break\n",
    "\n",
    "for i in range(rows):\n",
    "    if system2_CMC[i]>.70:\n",
    "        sys2_qualifyingRank=i+1\n",
    "        break\n",
    "\n",
    "        \n",
    "\n",
    "print('The lowest rank of System 1 when preformance is greater than 70% is : '+ str(sys1_qualifyingRank))\n",
    "print('The lowest rank of System 2 when preformance is greater than 70% is : '+ str(sys2_qualifyingRank))"
   ]
  },
  {
   "cell_type": "markdown",
   "metadata": {},
   "source": [
    "## Part 2"
   ]
  },
  {
   "cell_type": "markdown",
   "metadata": {},
   "source": [
    "e)"
   ]
  },
  {
   "cell_type": "markdown",
   "metadata": {},
   "source": [
    "### code"
   ]
  },
  {
   "cell_type": "code",
   "execution_count": 266,
   "metadata": {
    "collapsed": true
   },
   "outputs": [],
   "source": [
    "# For System 1\n",
    "\n",
    "sys1_s_min=np.min(sim_Matrix1)\n",
    "sys1_s_max=np.max(sim_Matrix1)\n",
    "sys1_T=sys1_rows\n",
    "sys1_p=(sys1_s_max-sys1_s_min)/(sys1_T-1)\n",
    "sys1_FAR=0\n",
    "sys1_FRR=0\n",
    "\n",
    "sys1_FAR=np.zeros(sys1_rows)\n",
    "sys1_FRR=np.zeros(sys1_rows)\n",
    "\n",
    "\n",
    "\n",
    "for j in range(sys1_rows):\n",
    "    \n",
    "    # Calculating the thresholf for every j\n",
    "    sys1_n= sys1_s_min +((j+1)-1)*sys1_p\n",
    "    \n",
    "    # FAR for System 1\n",
    "    for i in range(sys1_imposterScore.size):\n",
    "        if sys1_imposterScore[i]>= sys1_n:\n",
    "            sys1_FAR[j]=sys1_FAR[j]+1\n",
    "    sys1_FAR[j]=sys1_FAR[j]/sys1_imposterScore.size\n",
    "    \n",
    "    # FRR for System 1\n",
    "    for i in range(sys1_genuineScore.size):\n",
    "        if sys1_genuineScore[i]< sys1_n:\n",
    "            sys1_FRR[j]=sys1_FRR[j]+1\n",
    "    sys1_FRR[j]=sys1_FRR[j]/sys1_genuineScore.size\n",
    "    \n",
    "    \n",
    "\n",
    "\n",
    "\n",
    "\n",
    "# For System 2\n",
    "\n",
    "sys2_s_min=np.min(sim_Matrix2)\n",
    "sys2_s_max=np.max(sim_Matrix2)\n",
    "sys2_T=sys2_rows\n",
    "sys2_p=(sys2_s_max-sys2_s_min)/(sys2_T-1)\n",
    "sys2_FAR=0\n",
    "sys2_FRR=0\n",
    "\n",
    "sys2_FAR=np.zeros(sys2_rows)\n",
    "sys2_FRR=np.zeros(sys2_rows)\n",
    "\n",
    "\n",
    "\n",
    "for j in range(sys2_rows):\n",
    "    \n",
    "    # Calculating the threshold for every j\n",
    "    sys2_n= sys2_s_min +((j+1)-1)*sys2_p\n",
    "    \n",
    "    # FAR for System 2\n",
    "    for i in range(sys2_imposterScore.size):\n",
    "        if sys2_imposterScore[i]>= sys2_n:\n",
    "            sys2_FAR[j]=sys2_FAR[j]+1\n",
    "    sys2_FAR[j]=sys2_FAR[j]/sys2_imposterScore.size\n",
    "    \n",
    "    # FRR for System 2\n",
    "    for i in range(sys2_genuineScore.size):\n",
    "        if sys2_genuineScore[i]< sys2_n:\n",
    "            sys2_FRR[j]=sys2_FRR[j]+1\n",
    "    sys2_FRR[j]=sys2_FRR[j]/sys2_genuineScore.size"
   ]
  },
  {
   "cell_type": "markdown",
   "metadata": {},
   "source": [
    "### Plots"
   ]
  },
  {
   "cell_type": "code",
   "execution_count": 276,
   "metadata": {},
   "outputs": [
    {
     "data": {
      "text/plain": [
       "<matplotlib.legend.Legend at 0x12440ff28>"
      ]
     },
     "execution_count": 276,
     "metadata": {},
     "output_type": "execute_result"
    },
    {
     "data": {
      "image/png": "[encoded data removed]",
      "text/plain": [
       "<matplotlib.figure.Figure at 0x12451c8d0>"
      ]
     },
     "metadata": {},
     "output_type": "display_data"
    }
   ],
   "source": [
    "plt.plot(sys1_FAR,sys1_FRR,color='maroon',label='ROC')\n",
    "plt.title('ROC curve for System 1')\n",
    "plt.xlabel('False Accept Rate - FAR')\n",
    "plt.ylabel('False Reject Rate - FRR')\n",
    "plt.legend()"
   ]
  },
  {
   "cell_type": "code",
   "execution_count": 275,
   "metadata": {},
   "outputs": [
    {
     "data": {
      "text/plain": [
       "<matplotlib.legend.Legend at 0x123fe99b0>"
      ]
     },
     "execution_count": 275,
     "metadata": {},
     "output_type": "execute_result"
    },
    {
     "data": {
      "image/png": "[encoded data removed]",
      "text/plain": [
       "<matplotlib.figure.Figure at 0x1245b25c0>"
      ]
     },
     "metadata": {},
     "output_type": "display_data"
    }
   ],
   "source": [
    "plt.plot(sys2_FAR,sys2_FRR,color='lightgreen',label='ROC')\n",
    "plt.title('ROC curve for System 2')\n",
    "plt.xlabel('False Accept Rate - FAR')\n",
    "plt.ylabel('False Reject Rate - FRR')\n",
    "plt.legend()"
   ]
  },
  {
   "cell_type": "markdown",
   "metadata": {},
   "source": [
    "f)"
   ]
  },
  {
   "cell_type": "code",
   "execution_count": 335,
   "metadata": {},
   "outputs": [
    {
     "name": "stdout",
     "output_type": "stream",
     "text": [
      "The Equal Error rate of System 1 is : 0.0533157967603\n",
      "213\n",
      "The Equal Error rate of System 2 is : 0.205653237344\n",
      "197\n"
     ]
    }
   ],
   "source": [
    "## EER for System 1\n",
    "EER_catch=False\n",
    "\n",
    "for i in range(rows):\n",
    "    if abs(sys1_FAR[i] - sys1_FRR[i]) < 2*sys1_p:\n",
    "        EER_catch=True\n",
    "        sys1_EER=sys1_FAR[i]\n",
    "        sys1_EER_index=i\n",
    "\n",
    "print('The Equal Error rate of System 1 is : '+str(sys1_EER))\n",
    "print(sys1_EER_index)\n",
    "\n",
    "\n",
    "## EER for System 2\n",
    "\n",
    "EER_catch=False\n",
    "\n",
    "for i in range(rows):\n",
    "    if abs(sys2_FAR[i] - sys2_FRR[i]) < 2*sys2_p:\n",
    "        EER_catch=True\n",
    "        sys2_EER=sys2_FAR[i]\n",
    "        sys2_EER_index=i\n",
    "\n",
    "print('The Equal Error rate of System 2 is : '+str(sys2_EER))\n",
    "print(sys2_EER_index)"
   ]
  },
  {
   "cell_type": "code",
   "execution_count": 342,
   "metadata": {},
   "outputs": [
    {
     "data": {
      "text/plain": [
       "<matplotlib.legend.Legend at 0x1248e1a90>"
      ]
     },
     "execution_count": 342,
     "metadata": {},
     "output_type": "execute_result"
    },
    {
     "data": {
      "image/png": "[encoded data removed]",
      "text/plain": [
       "<matplotlib.figure.Figure at 0x124543320>"
      ]
     },
     "metadata": {},
     "output_type": "display_data"
    }
   ],
   "source": [
    "plt.plot(sys1_FAR,label='FAR',color='crimson')\n",
    "plt.plot(sys1_FRR,label='FRR',color='goldenrod')\n",
    "plt.title('System 1')\n",
    "plt.legend()"
   ]
  },
  {
   "cell_type": "code",
   "execution_count": 345,
   "metadata": {},
   "outputs": [
    {
     "data": {
      "text/plain": [
       "<matplotlib.legend.Legend at 0x1241e6a58>"
      ]
     },
     "execution_count": 345,
     "metadata": {},
     "output_type": "execute_result"
    },
    {
     "data": {
      "image/png": "[encoded data removed]",
      "text/plain": [
       "<matplotlib.figure.Figure at 0x11f1a4630>"
      ]
     },
     "metadata": {},
     "output_type": "display_data"
    }
   ],
   "source": [
    "plt.plot(sys2_FAR,label='FAR',color='magenta')\n",
    "plt.plot(sys2_FRR,label='FRR',color='lightgreen')\n",
    "plt.title('System 2')\n",
    "plt.legend()"
   ]
  },
  {
   "cell_type": "markdown",
   "metadata": {},
   "source": [
    "g)"
   ]
  },
  {
   "cell_type": "code",
   "execution_count": 395,
   "metadata": {},
   "outputs": [
    {
     "name": "stdout",
     "output_type": "stream",
     "text": [
      "242\n",
      "FRR when FAR is 1.0 % is : 9.01287553648 %\n",
      "214\n",
      "FRR when FAR is 5.0 % is : 5.36480686695 %\n",
      "199\n",
      "FRR when FAR is 10.0 % is : 2.14592274678 %\n",
      "180\n",
      "FRR when FAR is 20.0 % is : 1.28755364807 %\n"
     ]
    },
    {
     "data": {
      "text/plain": [
       "0.012875536480686695"
      ]
     },
     "execution_count": 395,
     "metadata": {},
     "output_type": "execute_result"
    }
   ],
   "source": [
    "def far_to_frr(sysFAR,sysFRR,FAR_value,threshold_step):\n",
    "    \n",
    "    FAR_value=FAR_value/100\n",
    "\n",
    "    for j in range(sysFRR.size):\n",
    "        \n",
    "        if abs(sysFAR[j]-FAR_value)<= threshold_step:\n",
    "            print(j)\n",
    "            print('FRR when FAR is '+str(FAR_value*100)+' % is : '+str(sysFRR[j]*100)+' %' )\n",
    "            return sysFRR[j]\n",
    "\n",
    "        \n",
    "## FRR when FAR is 1 percent\n",
    "far_to_frr(sys1_FAR,sys1_FRR,1,sys1_p)\n",
    "\n",
    "## FRR when FAR is 5 percent\n",
    "far_to_frr(sys1_FAR,sys1_FRR,5,sys1_p)\n",
    "\n",
    "## FRR when FAR is 10 percent\n",
    "far_to_frr(sys1_FAR,sys1_FRR,10,sys1_p)\n",
    "\n",
    "## FRR when FAR is 20 percent\n",
    "far_to_frr(sys1_FAR,sys1_FRR,20,sys1_p)"
   ]
  },
  {
   "cell_type": "markdown",
   "metadata": {},
   "source": [
    "h)"
   ]
  },
  {
   "cell_type": "markdown",
   "metadata": {},
   "source": [
    "I would consider System 1 is better performing for various reasons,\n",
    "\n",
    "1. d' for System 1 (around 3.5) is higher than that of System 2(around 1.7)\n",
    "2. The ROC of System 1 is more close to the axis , which denotes lesser correlation amongst the classes . IN other words it means that they have high accuracy of prediction and very low false detection rates.\n",
    "3. From the distribution plot of System 1 and System 2 it is obvious that The Genuine Scores and Imposter Scores of System 1 overlap far less that that of System 2. This is not a desired characteristic of any Biometric System \n",
    "\n",
    "and Thus i conclude that System 1 is far better than System 2 in perfromance\n"
   ]
  },
  {
   "cell_type": "code",
   "execution_count": null,
   "metadata": {
    "collapsed": true
   },
   "outputs": [],
   "source": []
  }
 ],
 "metadata": {
  "kernelspec": {
   "display_name": "Python 3",
   "language": "python",
   "name": "python3"
  },
  "language_info": {
   "codemirror_mode": {
    "name": "ipython",
    "version": 3
   },
   "file_extension": ".py",
   "mimetype": "text/x-python",
   "name": "python",
   "nbconvert_exporter": "python",
   "pygments_lexer": "ipython3",
   "version": "3.5.4"
  }
 },
 "nbformat": 4,
 "nbformat_minor": 2
}
